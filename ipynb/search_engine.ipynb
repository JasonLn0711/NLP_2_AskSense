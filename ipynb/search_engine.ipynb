{
 "cells": [
  {
   "cell_type": "code",
   "execution_count": 1,
   "id": "0cbb6d22",
   "metadata": {},
   "outputs": [
    {
     "name": "stderr",
     "output_type": "stream",
     "text": [
      "/Users/iKev/Desktop/NLP GPT class/.venv/lib/python3.12/site-packages/tqdm/auto.py:21: TqdmWarning: IProgress not found. Please update jupyter and ipywidgets. See https://ipywidgets.readthedocs.io/en/stable/user_install.html\n",
      "  from .autonotebook import tqdm as notebook_tqdm\n"
     ]
    }
   ],
   "source": [
    "from sentence_transformers import SentenceTransformer, util\n",
    "import os"
   ]
  },
  {
   "cell_type": "code",
   "execution_count": 2,
   "id": "259c7855",
   "metadata": {},
   "outputs": [],
   "source": [
    "class SemanticSearchEngine:\n",
    "    def __init__(self, corpus_path):\n",
    "        self.model = SentenceTransformer('all-MiniLM-L6-v2')\n",
    "\n",
    "        base_dir = os.path.dirname(__file__)\n",
    "        full_path = os.path.join(base_dir, corpus_path)\n",
    "        with open(full_path, 'r', encoding='utf-8') as f:\n",
    "            self.corpus = [line.strip() for line in f.readlines()]\n",
    "        self.embeddings = self.model.encode(self.corpus, convert_to_tensor=True)\n",
    "\n",
    "    def search(self, query, top_k=3):\n",
    "        query_embedding = self.model.encode(query, convert_to_tensor=True)\n",
    "        scores = util.pytorch_cos_sim(query_embedding, self.embeddings)[0]\n",
    "        top_results = scores.topk(top_k)\n",
    "        return [(self.corpus[idx], float(scores[idx])) for idx in top_results.indices]"
   ]
  },
  {
   "cell_type": "code",
   "execution_count": null,
   "id": "82c0985b",
   "metadata": {},
   "outputs": [],
   "source": []
  }
 ],
 "metadata": {
  "kernelspec": {
   "display_name": ".venv",
   "language": "python",
   "name": "python3"
  },
  "language_info": {
   "codemirror_mode": {
    "name": "ipython",
    "version": 3
   },
   "file_extension": ".py",
   "mimetype": "text/x-python",
   "name": "python",
   "nbconvert_exporter": "python",
   "pygments_lexer": "ipython3",
   "version": "3.12.10"
  }
 },
 "nbformat": 4,
 "nbformat_minor": 5
}
